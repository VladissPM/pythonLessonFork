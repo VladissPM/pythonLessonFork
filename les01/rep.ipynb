{
  "nbformat": 4,
  "nbformat_minor": 0,
  "metadata": {
    "colab": {
      "provenance": [],
      "authorship_tag": "ABX9TyODoan0bY4M4okCK+LBDa4V",
      "include_colab_link": true
    },
    "kernelspec": {
      "name": "python3",
      "display_name": "Python 3"
    },
    "language_info": {
      "name": "python"
    }
  },
  "cells": [
    {
      "cell_type": "markdown",
      "metadata": {
        "id": "view-in-github",
        "colab_type": "text"
      },
      "source": [
        "<a href=\"https://colab.research.google.com/github/VladissPM/pythonLessonFork/blob/main/les01/rep.ipynb\" target=\"_parent\"><img src=\"https://colab.research.google.com/assets/colab-badge.svg\" alt=\"Open In Colab\"/></a>"
      ]
    },
    {
      "cell_type": "code",
      "execution_count": null,
      "metadata": {
        "id": "7vl9br6Z9Q7g"
      },
      "outputs": [],
      "source": [
        "#Лабораторная работа №1 | Подготовка среды для анализа данных\n",
        "##Задание\n",
        "  1. Создайте учетную запись в сервисе GitHub\n",
        "  > Создал учетную запись на GitHub"
      ]
    }
  ]
}