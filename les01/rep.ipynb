{
  "nbformat": 4,
  "nbformat_minor": 0,
  "metadata": {
    "colab": {
      "provenance": [],
      "toc_visible": true,
      "authorship_tag": "ABX9TyN114roc6NOHPxjY9Ybo/co",
      "include_colab_link": true
    },
    "kernelspec": {
      "name": "python3",
      "display_name": "Python 3"
    },
    "language_info": {
      "name": "python"
    }
  },
  "cells": [
    {
      "cell_type": "markdown",
      "metadata": {
        "id": "view-in-github",
        "colab_type": "text"
      },
      "source": [
        "<a href=\"https://colab.research.google.com/github/VladissPM/pythonLessonFork/blob/main/les01/rep.ipynb\" target=\"_parent\"><img src=\"https://colab.research.google.com/assets/colab-badge.svg\" alt=\"Open In Colab\"/></a>"
      ]
    },
    {
      "cell_type": "code",
      "execution_count": 2,
      "metadata": {
        "colab": {
          "base_uri": "https://localhost:8080/"
        },
        "id": "7vl9br6Z9Q7g",
        "outputId": "e31b7ab6-afd5-4b33-a811-cf58db86aa25"
      },
      "outputs": [
        {
          "output_type": "stream",
          "name": "stdout",
          "text": [
            "Vlad Imba\n"
          ]
        }
      ],
      "source": [
        "print(\"Vlad Imba\")"
      ]
    },
    {
      "cell_type": "markdown",
      "source": [
        "#Лабораторная работа №1 | Подготовка среды для анализа данных\n",
        "##Задание\n",
        "1. Создайте учетную запись в сервисе GitHub\n",
        "\t>Создал учетную запись на GitHub. <https://github.com/VladissPM>\n",
        "2. Выполните форк репозитория <https://github.com/chebotarevsa/dap-2024>\n",
        "  >Выполнил форк репозитория. pythonLessonFork - <https://github.com/VladissPM/pythonLessonFork>\n",
        "3. Создайте учетную запись в Google Colab\n",
        "4. Настройте интеграцию Google Colab и GitHub\n",
        "5. Создайте в Google Colab отчет о выполненой работе в виде файла rep.ipynb. Используйте Markdown разметку (заголовки, списки, форматированный текст, ссылки)\n",
        "6. Сохраните отчет в ваш репозиторий github в директории ./les01\n",
        "7. Создайте pull request в репозиторий https://github.com/chebotarevsa/dap-2024. Название pull request должно иметь формат \"<Номер лабораторной работы> <Номер группы> <ФИО>\"\n",
        "8. Сдайте работу в системе \"Пегас\", в отчет укажите ссылку на pull request\n"
      ],
      "metadata": {
        "id": "C2mjw2L5-s7f"
      }
    }
  ]
}