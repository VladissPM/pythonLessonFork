{
  "nbformat": 4,
  "nbformat_minor": 0,
  "metadata": {
    "colab": {
      "provenance": [],
      "authorship_tag": "ABX9TyOfYeuaAPUasjiYiI6GvNww",
      "include_colab_link": true
    },
    "kernelspec": {
      "name": "python3",
      "display_name": "Python 3"
    },
    "language_info": {
      "name": "python"
    }
  },
  "cells": [
    {
      "cell_type": "markdown",
      "metadata": {
        "id": "view-in-github",
        "colab_type": "text"
      },
      "source": [
        "<a href=\"https://colab.research.google.com/github/VladissPM/pythonLessonFork/blob/main/les03/LabWork3.ipynb\" target=\"_parent\"><img src=\"https://colab.research.google.com/assets/colab-badge.svg\" alt=\"Open In Colab\"/></a>"
      ]
    },
    {
      "cell_type": "markdown",
      "source": [
        "#Лабораторная работа №3. NumPy\n",
        "##Задания\n",
        "1. Создать массив 10x10 со случайными значениями, найти минимум и максимум (низкая)"
      ],
      "metadata": {
        "id": "WtvEziK6cUil"
      }
    },
    {
      "cell_type": "code",
      "source": [
        "import numpy as np\n",
        "z = np.random.random((10, 10))\n",
        "min_val = z.min()\n",
        "max_val = z.max()"
      ],
      "metadata": {
        "id": "HQXIbJ08dF3Z"
      },
      "execution_count": 1,
      "outputs": []
    },
    {
      "cell_type": "markdown",
      "source": [
        "2. Создать 8x8 матрицу и заполнить её единицами и нулями в шахматном порядке"
      ],
      "metadata": {
        "id": "Xg77b7k1dKZc"
      }
    },
    {
      "cell_type": "code",
      "source": [
        "z = np.zeros((8, 8), dtype=int)\n",
        "z[1::2, ::2] = 1\n",
        "z[::2, 1::2] = 1"
      ],
      "metadata": {
        "id": "uLBk4d8KdNup"
      },
      "execution_count": 2,
      "outputs": []
    },
    {
      "cell_type": "markdown",
      "source": [
        "3. Дан массив из 11 элементов, поменять знак у элементов, значения которых между 3 и 8"
      ],
      "metadata": {
        "id": "Kl8ij9tRdQBz"
      }
    },
    {
      "cell_type": "code",
      "source": [
        "import numpy as np\n",
        "z = np.arange(11)\n",
        "z[(z > 3) & (z < 8)] *= -1"
      ],
      "metadata": {
        "id": "DwBYjmfWdTmW"
      },
      "execution_count": 3,
      "outputs": []
    },
    {
      "cell_type": "markdown",
      "source": [
        "4. Найти среднее заначение строки матрицы и вычесть его из каждого елемента строки"
      ],
      "metadata": {
        "id": "1TKFbibzdTyp"
      }
    },
    {
      "cell_type": "code",
      "source": [
        "z = np.random.rand(5, 10)\n",
        "z -= z.mean(axis=1, keepdims=True)"
      ],
      "metadata": {
        "id": "JlCwa3G5dT5L"
      },
      "execution_count": 4,
      "outputs": []
    },
    {
      "cell_type": "markdown",
      "source": [
        "5. Поменяйте 1 и 2 строки матрицы"
      ],
      "metadata": {
        "id": "Dk91ZyXrdT-V"
      }
    },
    {
      "cell_type": "code",
      "source": [
        "z = np.arange(25).reshape(5, 5)\n",
        "z[[0, 1]] = z[[1, 0]]"
      ],
      "metadata": {
        "id": "6EgIIf0idUDC"
      },
      "execution_count": 5,
      "outputs": []
    },
    {
      "cell_type": "markdown",
      "source": [
        "6. Дан массив 10x2 подеставлющий собой точки в декартовой системе координат, преобразовать в полярную"
      ],
      "metadata": {
        "id": "Qn-Cqu4idUGf"
      }
    },
    {
      "cell_type": "code",
      "source": [
        "z = np.random.random((10, 2))\n",
        "r = np.sqrt(z[:, 0]**2 + z[:, 1]**2)\n",
        "theta = np.arctan2(z[:, 1], z[:, 0])"
      ],
      "metadata": {
        "id": "V4rujQK5dUK2"
      },
      "execution_count": 6,
      "outputs": []
    },
    {
      "cell_type": "markdown",
      "source": [
        "7. Заменить максимальный элемент массива на ноль"
      ],
      "metadata": {
        "id": "iRadptsVdUPP"
      }
    },
    {
      "cell_type": "code",
      "source": [
        "z = np.random.random(10)\n",
        "z[z.argmax()] = 0"
      ],
      "metadata": {
        "id": "CqDuCik8dUTU"
      },
      "execution_count": 7,
      "outputs": []
    },
    {
      "cell_type": "markdown",
      "source": [
        "8. Дан массив, добавить 1 к каждому элементу с индексом, заданным в другом массиве. Добавление производиться только 1 раз"
      ],
      "metadata": {
        "id": "yMRLSzo9dUXU"
      }
    },
    {
      "cell_type": "code",
      "source": [
        "z = np.ones(10)\n",
        "i = np.random.randint(0, len(z), 20)\n",
        "z[i] += 1\n",
        "z = np.clip(z, 0, 2)  # Добавление только 1 раз"
      ],
      "metadata": {
        "id": "cL_JGy05dUbv"
      },
      "execution_count": 8,
      "outputs": []
    },
    {
      "cell_type": "markdown",
      "source": [
        "9. Дан вектор [1, 2, 3, 4, 5], построить новый вектор с тремя нулями между каждым значением"
      ],
      "metadata": {
        "id": "j5oXZqOSdUfk"
      }
    },
    {
      "cell_type": "code",
      "source": [
        "z = np.array([1, 2, 3, 4, 5])\n",
        "z_new = np.zeros(len(z) * 4 - 3)\n",
        "z_new[::4] = z"
      ],
      "metadata": {
        "id": "o92Mp4ZadUjq"
      },
      "execution_count": 9,
      "outputs": []
    },
    {
      "cell_type": "markdown",
      "source": [
        "10. Найти ближайшее к заданному значению число в заданном массиве"
      ],
      "metadata": {
        "id": "EvWO1O9LdUnp"
      }
    },
    {
      "cell_type": "code",
      "source": [
        "z = np.arange(100)\n",
        "v = np.random.uniform(0, 100)\n",
        "closest_value = z[np.abs(z - v).argmin()]"
      ],
      "metadata": {
        "id": "XeUbDX4XdUrQ"
      },
      "execution_count": 10,
      "outputs": []
    }
  ]
}